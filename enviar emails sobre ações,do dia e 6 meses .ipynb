{
 "cells": [
  {
   "cell_type": "markdown",
   "id": "bbf7ea05",
   "metadata": {},
   "source": [
    "# problema \n",
    "\n",
    "1> buscar informações no site do yahool.\n",
    "2> gerar analises.\n",
    "3> enviar emails com resultado das analises. \n"
   ]
  },
  {
   "cell_type": "markdown",
   "id": "7542d449",
   "metadata": {},
   "source": [
    "# passo 1 "
   ]
  },
  {
   "cell_type": "code",
   "execution_count": 1,
   "id": "76fe0ee2",
   "metadata": {},
   "outputs": [],
   "source": [
    "import yfinance\n"
   ]
  },
  {
   "cell_type": "code",
   "execution_count": 2,
   "id": "32e58f78",
   "metadata": {},
   "outputs": [],
   "source": [
    "import pandas\n"
   ]
  },
  {
   "cell_type": "code",
   "execution_count": 4,
   "id": "c2ff7070",
   "metadata": {},
   "outputs": [
    {
     "name": "stdout",
     "output_type": "stream",
     "text": [
      "Digite o código  da ação desejada: MXRF11.SA\n"
     ]
    },
    {
     "data": {
      "text/plain": [
       "<AxesSubplot:xlabel='Date'>"
      ]
     },
     "execution_count": 4,
     "metadata": {},
     "output_type": "execute_result"
    },
    {
     "data": {
      "image/png": "[encoded data removed]",
      "text/plain": [
       "<Figure size 432x288 with 1 Axes>"
      ]
     },
     "metadata": {
      "needs_background": "light"
     },
     "output_type": "display_data"
    }
   ],
   "source": [
    " ticker = input('Digite o código  da ação desejada: ')\n",
    "    \n",
    "# ticker é a ação ou sobre o que voce quer saber !\n",
    "\n",
    "\n",
    "\n",
    "\n",
    "dados = yfinance.Ticker(ticker)\n",
    "\n",
    "\n",
    "tabela = dados.history('6mo')\n",
    "# dados.history = entrou no finance (site) e pegou os historicos do ticker(açao escolhida)\n",
    "# mo =meses\n",
    "# y = ano\n",
    "\n",
    "\n",
    "fechamento = tabela.Close\n",
    "# da tabela (dado.history),  escolheu uma coluna \"close\"\n",
    "\n",
    "fechamento.plot()\n",
    "# é o grafico da (tabela.close)\n",
    "\n",
    "\n",
    "\n"
   ]
  },
  {
   "cell_type": "markdown",
   "id": "ecbd8f58",
   "metadata": {},
   "source": [
    "# GERAR ANALISES ( últimos 6 meses )\n",
    " -cotação maxima.\n",
    " -cotação minima.\n",
    " -cotação atual."
   ]
  },
  {
   "cell_type": "code",
   "execution_count": 7,
   "id": "86ab661b",
   "metadata": {},
   "outputs": [],
   "source": [
    "maxima = fechamento.max()\n",
    "minima = fechamento.min()\n",
    "atual = fechamento[-1]\n",
    "\n",
    "# print (maxima)\n",
    "# print (minima)\n",
    "# print (atual)"
   ]
  },
  {
   "cell_type": "markdown",
   "id": "ab0c543a",
   "metadata": {},
   "source": [
    "# passo 3, enviar email de forma automatica \n",
    "> abri aba nova no navegador.\n",
    "> escrever endereço de email.\n",
    "> clicar no botao escrever.\n",
    "> preencher destinatario\n",
    "> assunto \n",
    "> escrever email\n",
    ">clicar em enviar email.\n",
    "\n"
   ]
  },
  {
   "cell_type": "code",
   "execution_count": 78,
   "id": "7bb10931",
   "metadata": {},
   "outputs": [
    {
     "name": "stdout",
     "output_type": "stream",
     "text": [
      "Requirement already satisfied: pyautogui in d:\\anaconda\\lib\\site-packages (0.9.53)\n",
      "Requirement already satisfied: pygetwindow>=0.0.5 in d:\\anaconda\\lib\\site-packages (from pyautogui) (0.0.9)\n",
      "Requirement already satisfied: mouseinfo in d:\\anaconda\\lib\\site-packages (from pyautogui) (0.1.3)\n",
      "Requirement already satisfied: pyscreeze>=0.1.21 in d:\\anaconda\\lib\\site-packages (from pyautogui) (0.1.28)\n",
      "Requirement already satisfied: pymsgbox in d:\\anaconda\\lib\\site-packages (from pyautogui) (1.0.9)\n",
      "Requirement already satisfied: PyTweening>=1.0.1 in d:\\anaconda\\lib\\site-packages (from pyautogui) (1.0.4)\n",
      "Requirement already satisfied: pyrect in d:\\anaconda\\lib\\site-packages (from pygetwindow>=0.0.5->pyautogui) (0.2.0)\n",
      "Requirement already satisfied: pyperclip in d:\\anaconda\\lib\\site-packages (from mouseinfo->pyautogui) (1.8.2)\n"
     ]
    }
   ],
   "source": [
    "!pip install pyautogui"
   ]
  },
  {
   "cell_type": "code",
   "execution_count": 79,
   "id": "ea995144",
   "metadata": {},
   "outputs": [
    {
     "name": "stdout",
     "output_type": "stream",
     "text": [
      "Requirement already satisfied: pyperclip in d:\\anaconda\\lib\\site-packages (1.8.2)\n"
     ]
    }
   ],
   "source": [
    "!pip install pyperclip"
   ]
  },
  {
   "cell_type": "code",
   "execution_count": 5,
   "id": "edc7edf7",
   "metadata": {},
   "outputs": [],
   "source": [
    "import pyautogui\n",
    "import pyperclip"
   ]
  },
  {
   "cell_type": "code",
   "execution_count": 6,
   "id": "056e8995",
   "metadata": {},
   "outputs": [],
   "source": [
    "pyautogui.PAUSE = 2\n",
    "# pausa de 2 seg para realiza as ações\n",
    "\n",
    "pyautogui.hotkey('ctrl','t') # abre uma aba do navegador\n",
    "pyperclip.copy('https://mail.google.com/mail/u/0/#inbox') #copiou esse link\n",
    "pyautogui.hotkey('ctrl', 'v') #colou o link copiado na aba do navegador\n",
    "pyautogui.hotkey('enter') #clicooou em entra no link copiado\n",
    "\n",
    "\n",
    "pyautogui.click(x=63, y=185) #posição do mouse,onde fica a opção de escrever email,e clicar !\n",
    "\n",
    "pyperclip.copy ('giovaneteodoro79@gmail.com') # endereço para enviar o email,copiou\n",
    "pyautogui.hotkey ('ctrl','v') #colou endereço de email\n",
    "pyautogui.hotkey('tab') # mudou de lugar , onde vai escrever o assunto\n",
    "\n",
    "pyperclip.copy('Análises diarias') # copiou esse assunto para colar depois\n",
    "pyautogui.hotkey ('ctrl','v') # colou  no lugar assunto do email\n",
    "pyautogui.hotkey('tab') # mudou de lugar, para escrever a mensagem\n",
    "\n",
    "\n",
    "mensagem =f'''Prezado gestor, \n",
    "\n",
    "segue as análises dos últimos 6 meses da ação {ticker}.\n",
    "\n",
    "\n",
    "cotação maxima = R$ {round (maxima, 2)}\n",
    "cotação minima = R$ {round (minima, 2)}\n",
    "cotação atual =  R$ {round (atual, 2)}\n",
    "\n",
    "Qualquer dúvida estou à disposição !\n",
    "\n",
    "\n",
    "Giovani.\n",
    "\n",
    "\n",
    "\n",
    "'''\n",
    "\n",
    "# (f = formatouu o texto para poder pular as linhas,ter espaços e usar {}  para pegar as variaveis guardadas )\n",
    "#( round , 2 >> é a quantidade dee casas decimais que deve ser usadas )\n",
    "\n",
    "\n",
    "\n",
    "pyperclip.copy(mensagem) # copiou mensagem para colar depois \n",
    "pyautogui.hotkey ('ctrl','v') # colou mensagem, na mensagem do email\n",
    "\n",
    "#  pyautogui.click(x=902, y=764) # posição do mouse,para clicar em enviar email e clicar!\n",
    "\n",
    "\n",
    "\n",
    "\n"
   ]
  },
  {
   "cell_type": "code",
   "execution_count": 12,
   "id": "c479ccb3",
   "metadata": {},
   "outputs": [
    {
     "data": {
      "text/plain": [
       "Point(x=902, y=764)"
      ]
     },
     "execution_count": 12,
     "metadata": {},
     "output_type": "execute_result"
    }
   ],
   "source": [
    "#como  achar posição do mouse executar esse programa e vc tem  5seg para colocar o mouse onde vc quer que ele clique .\n",
    "\n",
    "import time\n",
    "\n",
    "time.sleep(5)\n",
    "\n",
    "pyautogui.position()\n"
   ]
  },
  {
   "cell_type": "code",
   "execution_count": null,
   "id": "ba65758d",
   "metadata": {},
   "outputs": [],
   "source": []
  }
 ],
 "metadata": {
  "kernelspec": {
   "display_name": "Python 3 (ipykernel)",
   "language": "python",
   "name": "python3"
  },
  "language_info": {
   "codemirror_mode": {
    "name": "ipython",
    "version": 3
   },
   "file_extension": ".py",
   "mimetype": "text/x-python",
   "name": "python",
   "nbconvert_exporter": "python",
   "pygments_lexer": "ipython3",
   "version": "3.9.12"
  }
 },
 "nbformat": 4,
 "nbformat_minor": 5
}
